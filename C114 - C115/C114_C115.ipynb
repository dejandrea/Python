{
  "cells": [
    {
      "cell_type": "markdown",
      "metadata": {
        "id": "3CSw96A6rWsy"
      },
      "source": [
        "## Carregue o Conjunto de Dados\n",
        "\n"
      ]
    },
    {
      "cell_type": "markdown",
      "metadata": {
        "id": "62rnxy-zXcCj"
      },
      "source": [
        "# Aula 114"
      ]
    },
    {
      "cell_type": "code",
      "execution_count": 1,
      "metadata": {
        "colab": {
          "base_uri": "https://localhost:8080/"
        },
        "id": "uLZ7Kjl-9lQj",
        "outputId": "4b8cf61e-8c6c-408d-a6d6-b4b390af1fe4"
      },
      "outputs": [
        {
          "name": "stderr",
          "output_type": "stream",
          "text": [
            "Cloning into 'PRO_1-1_C114_TextSentimentDataset'...\n"
          ]
        }
      ],
      "source": [
        "#Carregue o conjunto de dados do diretório fornecido\n",
        "!git clone https://github.com/ByjusBrazil/PRO_1-1_C114_TextSentimentDataset"
      ]
    },
    {
      "cell_type": "markdown",
      "metadata": {
        "id": "bCJiSzc3rbbi"
      },
      "source": [
        "## Pandas:\n",
        "O **Pandas** é uma biblioteca de código aberto construída sobre o Numpy e o Matplotlib. Ele fornece estruturas de dados de alto desempenho e fáceis de usar e ferramentas de análise de dados. \n",
        "\n",
        "Um DataFrame (quadro de dados) é uma estrutura de dados bidimensional, ou seja, os dados são alinhados de forma tabular em linhas e colunas da mesma forma que nosso conjunto de dados de teste. O DataFrame do Pandas consiste em três componentes principais, os dados, as linhas e as colunas.\n",
        "\n",
        "O DataFrame do Pandas será criado carregando os conjuntos de dados de arquivos existentes do MS Excel, arquivos CSV ou banco de dados SQL. O DataFrame do Pandas também pode ser criado a partir de listas, dicionários, etc.\n",
        "\n"
      ]
    },
    {
      "cell_type": "markdown",
      "metadata": {
        "id": "PbYetMMENj-y"
      },
      "source": [
        "## Use o Pandas para exibir o conjunto de dados\n"
      ]
    },
    {
      "cell_type": "code",
      "execution_count": 2,
      "metadata": {
        "colab": {
          "base_uri": "https://localhost:8080/",
          "height": 206
        },
        "id": "DNlWSc7NG1Dl",
        "outputId": "69a2f493-288e-4fef-efab-6ca3abd99913"
      },
      "outputs": [
        {
          "ename": "FileNotFoundError",
          "evalue": "[Errno 2] No such file or directory: '/content/PRO_1-1_C114_TextSentimentDataset/text-emotion-training-dataset.xlsx'",
          "output_type": "error",
          "traceback": [
            "\u001b[1;31m---------------------------------------------------------------------------\u001b[0m",
            "\u001b[1;31mFileNotFoundError\u001b[0m                         Traceback (most recent call last)",
            "\u001b[1;32md:\\Documentos\\BYJUS\\AulasVScode\\Aulas\\Alunos\\Aluno 0\\Python\\C114 - C115\\C114_C115.ipynb Célula: 6\u001b[0m in \u001b[0;36m<cell line: 4>\u001b[1;34m()\u001b[0m\n\u001b[0;32m      <a href='vscode-notebook-cell:/d%3A/Documentos/BYJUS/AulasVScode/Aulas/Alunos/Aluno%200/Python/C114%20-%20C115/C114_C115.ipynb#W5sZmlsZQ%3D%3D?line=0'>1</a>\u001b[0m \u001b[39mimport\u001b[39;00m \u001b[39mpandas\u001b[39;00m \u001b[39mas\u001b[39;00m \u001b[39mpd\u001b[39;00m\n\u001b[0;32m      <a href='vscode-notebook-cell:/d%3A/Documentos/BYJUS/AulasVScode/Aulas/Alunos/Aluno%200/Python/C114%20-%20C115/C114_C115.ipynb#W5sZmlsZQ%3D%3D?line=2'>3</a>\u001b[0m \u001b[39m#leia o arquivo excel\u001b[39;00m\n\u001b[1;32m----> <a href='vscode-notebook-cell:/d%3A/Documentos/BYJUS/AulasVScode/Aulas/Alunos/Aluno%200/Python/C114%20-%20C115/C114_C115.ipynb#W5sZmlsZQ%3D%3D?line=3'>4</a>\u001b[0m train_data_raw \u001b[39m=\u001b[39m pd\u001b[39m.\u001b[39;49mread_excel(\u001b[39m\"\u001b[39;49m\u001b[39m/content/PRO_1-1_C114_TextSentimentDataset/text-emotion-training-dataset.xlsx\u001b[39;49m\u001b[39m\"\u001b[39;49m)\n\u001b[0;32m      <a href='vscode-notebook-cell:/d%3A/Documentos/BYJUS/AulasVScode/Aulas/Alunos/Aluno%200/Python/C114%20-%20C115/C114_C115.ipynb#W5sZmlsZQ%3D%3D?line=5'>6</a>\u001b[0m \u001b[39m#exiba as primeiras cinco entradas do conjunto de dados de treinamento\u001b[39;00m\n\u001b[0;32m      <a href='vscode-notebook-cell:/d%3A/Documentos/BYJUS/AulasVScode/Aulas/Alunos/Aluno%200/Python/C114%20-%20C115/C114_C115.ipynb#W5sZmlsZQ%3D%3D?line=6'>7</a>\u001b[0m train_data_raw\u001b[39m.\u001b[39mhead()\n",
            "File \u001b[1;32m~\\AppData\\Roaming\\Python\\Python310\\site-packages\\pandas\\util\\_decorators.py:211\u001b[0m, in \u001b[0;36mdeprecate_kwarg.<locals>._deprecate_kwarg.<locals>.wrapper\u001b[1;34m(*args, **kwargs)\u001b[0m\n\u001b[0;32m    209\u001b[0m     \u001b[39melse\u001b[39;00m:\n\u001b[0;32m    210\u001b[0m         kwargs[new_arg_name] \u001b[39m=\u001b[39m new_arg_value\n\u001b[1;32m--> 211\u001b[0m \u001b[39mreturn\u001b[39;00m func(\u001b[39m*\u001b[39margs, \u001b[39m*\u001b[39m\u001b[39m*\u001b[39mkwargs)\n",
            "File \u001b[1;32m~\\AppData\\Roaming\\Python\\Python310\\site-packages\\pandas\\util\\_decorators.py:331\u001b[0m, in \u001b[0;36mdeprecate_nonkeyword_arguments.<locals>.decorate.<locals>.wrapper\u001b[1;34m(*args, **kwargs)\u001b[0m\n\u001b[0;32m    325\u001b[0m \u001b[39mif\u001b[39;00m \u001b[39mlen\u001b[39m(args) \u001b[39m>\u001b[39m num_allow_args:\n\u001b[0;32m    326\u001b[0m     warnings\u001b[39m.\u001b[39mwarn(\n\u001b[0;32m    327\u001b[0m         msg\u001b[39m.\u001b[39mformat(arguments\u001b[39m=\u001b[39m_format_argument_list(allow_args)),\n\u001b[0;32m    328\u001b[0m         \u001b[39mFutureWarning\u001b[39;00m,\n\u001b[0;32m    329\u001b[0m         stacklevel\u001b[39m=\u001b[39mfind_stack_level(),\n\u001b[0;32m    330\u001b[0m     )\n\u001b[1;32m--> 331\u001b[0m \u001b[39mreturn\u001b[39;00m func(\u001b[39m*\u001b[39margs, \u001b[39m*\u001b[39m\u001b[39m*\u001b[39mkwargs)\n",
            "File \u001b[1;32m~\\AppData\\Roaming\\Python\\Python310\\site-packages\\pandas\\io\\excel\\_base.py:482\u001b[0m, in \u001b[0;36mread_excel\u001b[1;34m(io, sheet_name, header, names, index_col, usecols, squeeze, dtype, engine, converters, true_values, false_values, skiprows, nrows, na_values, keep_default_na, na_filter, verbose, parse_dates, date_parser, thousands, decimal, comment, skipfooter, convert_float, mangle_dupe_cols, storage_options)\u001b[0m\n\u001b[0;32m    480\u001b[0m \u001b[39mif\u001b[39;00m \u001b[39mnot\u001b[39;00m \u001b[39misinstance\u001b[39m(io, ExcelFile):\n\u001b[0;32m    481\u001b[0m     should_close \u001b[39m=\u001b[39m \u001b[39mTrue\u001b[39;00m\n\u001b[1;32m--> 482\u001b[0m     io \u001b[39m=\u001b[39m ExcelFile(io, storage_options\u001b[39m=\u001b[39;49mstorage_options, engine\u001b[39m=\u001b[39;49mengine)\n\u001b[0;32m    483\u001b[0m \u001b[39melif\u001b[39;00m engine \u001b[39mand\u001b[39;00m engine \u001b[39m!=\u001b[39m io\u001b[39m.\u001b[39mengine:\n\u001b[0;32m    484\u001b[0m     \u001b[39mraise\u001b[39;00m \u001b[39mValueError\u001b[39;00m(\n\u001b[0;32m    485\u001b[0m         \u001b[39m\"\u001b[39m\u001b[39mEngine should not be specified when passing \u001b[39m\u001b[39m\"\u001b[39m\n\u001b[0;32m    486\u001b[0m         \u001b[39m\"\u001b[39m\u001b[39man ExcelFile - ExcelFile already has the engine set\u001b[39m\u001b[39m\"\u001b[39m\n\u001b[0;32m    487\u001b[0m     )\n",
            "File \u001b[1;32m~\\AppData\\Roaming\\Python\\Python310\\site-packages\\pandas\\io\\excel\\_base.py:1652\u001b[0m, in \u001b[0;36mExcelFile.__init__\u001b[1;34m(self, path_or_buffer, engine, storage_options)\u001b[0m\n\u001b[0;32m   1650\u001b[0m     ext \u001b[39m=\u001b[39m \u001b[39m\"\u001b[39m\u001b[39mxls\u001b[39m\u001b[39m\"\u001b[39m\n\u001b[0;32m   1651\u001b[0m \u001b[39melse\u001b[39;00m:\n\u001b[1;32m-> 1652\u001b[0m     ext \u001b[39m=\u001b[39m inspect_excel_format(\n\u001b[0;32m   1653\u001b[0m         content_or_path\u001b[39m=\u001b[39;49mpath_or_buffer, storage_options\u001b[39m=\u001b[39;49mstorage_options\n\u001b[0;32m   1654\u001b[0m     )\n\u001b[0;32m   1655\u001b[0m     \u001b[39mif\u001b[39;00m ext \u001b[39mis\u001b[39;00m \u001b[39mNone\u001b[39;00m:\n\u001b[0;32m   1656\u001b[0m         \u001b[39mraise\u001b[39;00m \u001b[39mValueError\u001b[39;00m(\n\u001b[0;32m   1657\u001b[0m             \u001b[39m\"\u001b[39m\u001b[39mExcel file format cannot be determined, you must specify \u001b[39m\u001b[39m\"\u001b[39m\n\u001b[0;32m   1658\u001b[0m             \u001b[39m\"\u001b[39m\u001b[39man engine manually.\u001b[39m\u001b[39m\"\u001b[39m\n\u001b[0;32m   1659\u001b[0m         )\n",
            "File \u001b[1;32m~\\AppData\\Roaming\\Python\\Python310\\site-packages\\pandas\\io\\excel\\_base.py:1525\u001b[0m, in \u001b[0;36minspect_excel_format\u001b[1;34m(content_or_path, storage_options)\u001b[0m\n\u001b[0;32m   1522\u001b[0m \u001b[39mif\u001b[39;00m \u001b[39misinstance\u001b[39m(content_or_path, \u001b[39mbytes\u001b[39m):\n\u001b[0;32m   1523\u001b[0m     content_or_path \u001b[39m=\u001b[39m BytesIO(content_or_path)\n\u001b[1;32m-> 1525\u001b[0m \u001b[39mwith\u001b[39;00m get_handle(\n\u001b[0;32m   1526\u001b[0m     content_or_path, \u001b[39m\"\u001b[39;49m\u001b[39mrb\u001b[39;49m\u001b[39m\"\u001b[39;49m, storage_options\u001b[39m=\u001b[39;49mstorage_options, is_text\u001b[39m=\u001b[39;49m\u001b[39mFalse\u001b[39;49;00m\n\u001b[0;32m   1527\u001b[0m ) \u001b[39mas\u001b[39;00m handle:\n\u001b[0;32m   1528\u001b[0m     stream \u001b[39m=\u001b[39m handle\u001b[39m.\u001b[39mhandle\n\u001b[0;32m   1529\u001b[0m     stream\u001b[39m.\u001b[39mseek(\u001b[39m0\u001b[39m)\n",
            "File \u001b[1;32m~\\AppData\\Roaming\\Python\\Python310\\site-packages\\pandas\\io\\common.py:865\u001b[0m, in \u001b[0;36mget_handle\u001b[1;34m(path_or_buf, mode, encoding, compression, memory_map, is_text, errors, storage_options)\u001b[0m\n\u001b[0;32m    856\u001b[0m         handle \u001b[39m=\u001b[39m \u001b[39mopen\u001b[39m(\n\u001b[0;32m    857\u001b[0m             handle,\n\u001b[0;32m    858\u001b[0m             ioargs\u001b[39m.\u001b[39mmode,\n\u001b[1;32m   (...)\u001b[0m\n\u001b[0;32m    861\u001b[0m             newline\u001b[39m=\u001b[39m\u001b[39m\"\u001b[39m\u001b[39m\"\u001b[39m,\n\u001b[0;32m    862\u001b[0m         )\n\u001b[0;32m    863\u001b[0m     \u001b[39melse\u001b[39;00m:\n\u001b[0;32m    864\u001b[0m         \u001b[39m# Binary mode\u001b[39;00m\n\u001b[1;32m--> 865\u001b[0m         handle \u001b[39m=\u001b[39m \u001b[39mopen\u001b[39;49m(handle, ioargs\u001b[39m.\u001b[39;49mmode)\n\u001b[0;32m    866\u001b[0m     handles\u001b[39m.\u001b[39mappend(handle)\n\u001b[0;32m    868\u001b[0m \u001b[39m# Convert BytesIO or file objects passed with an encoding\u001b[39;00m\n",
            "\u001b[1;31mFileNotFoundError\u001b[0m: [Errno 2] No such file or directory: '/content/PRO_1-1_C114_TextSentimentDataset/text-emotion-training-dataset.xlsx'"
          ]
        }
      ],
      "source": [
        "import pandas as pd\n",
        "\n",
        "#leia o arquivo excel\n",
        "train_data_raw = pd.read_excel(\"/content/PRO_1-1_C114_TextSentimentDataset/text-emotion-training-dataset.xlsx\")\n",
        "\n",
        "#exiba as primeiras cinco entradas do conjunto de dados de treinamento\n",
        "train_data_raw.head()"
      ]
    },
    {
      "cell_type": "markdown",
      "metadata": {
        "id": "bCMR_LveMJz_"
      },
      "source": [
        "## Divida as linhas em duas colunas: Texto e Emoção"
      ]
    },
    {
      "cell_type": "code",
      "execution_count": null,
      "metadata": {
        "id": "vWz0K50JHBoN"
      },
      "outputs": [],
      "source": [
        "# Divida as linhas em duas colunas: Texto e Emoção\n",
        "train_data = pd.DataFrame(train_data_raw[\"Text_Emotion\"].str.split(\";\",1).tolist(), \n",
        "                                                     columns = ['Texto','Emoção'])"
      ]
    },
    {
      "cell_type": "code",
      "execution_count": null,
      "metadata": {
        "colab": {
          "base_uri": "https://localhost:8080/",
          "height": 206
        },
        "id": "JJLFscLAHI3J",
        "outputId": "9c8a1e20-238d-421f-d564-33fee72962fe"
      },
      "outputs": [
        {
          "data": {
            "text/html": [
              "\n",
              "  <div id=\"df-43ac3bdf-3e48-4a54-ab6a-9061c753998b\">\n",
              "    <div class=\"colab-df-container\">\n",
              "      <div>\n",
              "<style scoped>\n",
              "    .dataframe tbody tr th:only-of-type {\n",
              "        vertical-align: middle;\n",
              "    }\n",
              "\n",
              "    .dataframe tbody tr th {\n",
              "        vertical-align: top;\n",
              "    }\n",
              "\n",
              "    .dataframe thead th {\n",
              "        text-align: right;\n",
              "    }\n",
              "</style>\n",
              "<table border=\"1\" class=\"dataframe\">\n",
              "  <thead>\n",
              "    <tr style=\"text-align: right;\">\n",
              "      <th></th>\n",
              "      <th>Texto</th>\n",
              "      <th>Emoção</th>\n",
              "    </tr>\n",
              "  </thead>\n",
              "  <tbody>\n",
              "    <tr>\n",
              "      <th>0</th>\n",
              "      <td>estou com a petronas há anos, sinto que a petr...</td>\n",
              "      <td>alegria</td>\n",
              "    </tr>\n",
              "    <tr>\n",
              "      <th>1</th>\n",
              "      <td>não me sinto seguro a ansiedade está de cada lado</td>\n",
              "      <td>alegria</td>\n",
              "    </tr>\n",
              "    <tr>\n",
              "      <th>2</th>\n",
              "      <td>tenho a sensação de que ela se divertiu e se e...</td>\n",
              "      <td>alegria</td>\n",
              "    </tr>\n",
              "    <tr>\n",
              "      <th>3</th>\n",
              "      <td>fico tonta por me sentir elegante em uma saia ...</td>\n",
              "      <td>alegria</td>\n",
              "    </tr>\n",
              "    <tr>\n",
              "      <th>4</th>\n",
              "      <td>eu preciso sentir a massa para ter certeza que...</td>\n",
              "      <td>alegria</td>\n",
              "    </tr>\n",
              "  </tbody>\n",
              "</table>\n",
              "</div>\n",
              "      <button class=\"colab-df-convert\" onclick=\"convertToInteractive('df-43ac3bdf-3e48-4a54-ab6a-9061c753998b')\"\n",
              "              title=\"Convert this dataframe to an interactive table.\"\n",
              "              style=\"display:none;\">\n",
              "        \n",
              "  <svg xmlns=\"http://www.w3.org/2000/svg\" height=\"24px\"viewBox=\"0 0 24 24\"\n",
              "       width=\"24px\">\n",
              "    <path d=\"M0 0h24v24H0V0z\" fill=\"none\"/>\n",
              "    <path d=\"M18.56 5.44l.94 2.06.94-2.06 2.06-.94-2.06-.94-.94-2.06-.94 2.06-2.06.94zm-11 1L8.5 8.5l.94-2.06 2.06-.94-2.06-.94L8.5 2.5l-.94 2.06-2.06.94zm10 10l.94 2.06.94-2.06 2.06-.94-2.06-.94-.94-2.06-.94 2.06-2.06.94z\"/><path d=\"M17.41 7.96l-1.37-1.37c-.4-.4-.92-.59-1.43-.59-.52 0-1.04.2-1.43.59L10.3 9.45l-7.72 7.72c-.78.78-.78 2.05 0 2.83L4 21.41c.39.39.9.59 1.41.59.51 0 1.02-.2 1.41-.59l7.78-7.78 2.81-2.81c.8-.78.8-2.07 0-2.86zM5.41 20L4 18.59l7.72-7.72 1.47 1.35L5.41 20z\"/>\n",
              "  </svg>\n",
              "      </button>\n",
              "      \n",
              "  <style>\n",
              "    .colab-df-container {\n",
              "      display:flex;\n",
              "      flex-wrap:wrap;\n",
              "      gap: 12px;\n",
              "    }\n",
              "\n",
              "    .colab-df-convert {\n",
              "      background-color: #E8F0FE;\n",
              "      border: none;\n",
              "      border-radius: 50%;\n",
              "      cursor: pointer;\n",
              "      display: none;\n",
              "      fill: #1967D2;\n",
              "      height: 32px;\n",
              "      padding: 0 0 0 0;\n",
              "      width: 32px;\n",
              "    }\n",
              "\n",
              "    .colab-df-convert:hover {\n",
              "      background-color: #E2EBFA;\n",
              "      box-shadow: 0px 1px 2px rgba(60, 64, 67, 0.3), 0px 1px 3px 1px rgba(60, 64, 67, 0.15);\n",
              "      fill: #174EA6;\n",
              "    }\n",
              "\n",
              "    [theme=dark] .colab-df-convert {\n",
              "      background-color: #3B4455;\n",
              "      fill: #D2E3FC;\n",
              "    }\n",
              "\n",
              "    [theme=dark] .colab-df-convert:hover {\n",
              "      background-color: #434B5C;\n",
              "      box-shadow: 0px 1px 3px 1px rgba(0, 0, 0, 0.15);\n",
              "      filter: drop-shadow(0px 1px 2px rgba(0, 0, 0, 0.3));\n",
              "      fill: #FFFFFF;\n",
              "    }\n",
              "  </style>\n",
              "\n",
              "      <script>\n",
              "        const buttonEl =\n",
              "          document.querySelector('#df-43ac3bdf-3e48-4a54-ab6a-9061c753998b button.colab-df-convert');\n",
              "        buttonEl.style.display =\n",
              "          google.colab.kernel.accessAllowed ? 'block' : 'none';\n",
              "\n",
              "        async function convertToInteractive(key) {\n",
              "          const element = document.querySelector('#df-43ac3bdf-3e48-4a54-ab6a-9061c753998b');\n",
              "          const dataTable =\n",
              "            await google.colab.kernel.invokeFunction('convertToInteractive',\n",
              "                                                     [key], {});\n",
              "          if (!dataTable) return;\n",
              "\n",
              "          const docLinkHtml = 'Like what you see? Visit the ' +\n",
              "            '<a target=\"_blank\" href=https://colab.research.google.com/notebooks/data_table.ipynb>data table notebook</a>'\n",
              "            + ' to learn more about interactive tables.';\n",
              "          element.innerHTML = '';\n",
              "          dataTable['output_type'] = 'display_data';\n",
              "          await google.colab.output.renderOutput(dataTable, element);\n",
              "          const docLink = document.createElement('div');\n",
              "          docLink.innerHTML = docLinkHtml;\n",
              "          element.appendChild(docLink);\n",
              "        }\n",
              "      </script>\n",
              "    </div>\n",
              "  </div>\n",
              "  "
            ],
            "text/plain": [
              "                                               Texto   Emoção\n",
              "0  estou com a petronas há anos, sinto que a petr...  alegria\n",
              "1  não me sinto seguro a ansiedade está de cada lado  alegria\n",
              "2  tenho a sensação de que ela se divertiu e se e...  alegria\n",
              "3  fico tonta por me sentir elegante em uma saia ...  alegria\n",
              "4  eu preciso sentir a massa para ter certeza que...  alegria"
            ]
          },
          "execution_count": 4,
          "metadata": {},
          "output_type": "execute_result"
        }
      ],
      "source": [
        "train_data.head()"
      ]
    },
    {
      "cell_type": "markdown",
      "metadata": {
        "id": "Be49pxjjLTk9"
      },
      "source": [
        "## Dando etiquetas às emoções"
      ]
    },
    {
      "cell_type": "code",
      "execution_count": null,
      "metadata": {
        "colab": {
          "base_uri": "https://localhost:8080/"
        },
        "id": "_SNv_pW-HMXp",
        "outputId": "7cf610b3-af40-42eb-9156-5d3ee768b8d1"
      },
      "outputs": [
        {
          "data": {
            "text/plain": [
              "array(['alegria', 'amor', 'medo', 'raiva', 'surpresa', 'tristeza'],\n",
              "      dtype=object)"
            ]
          },
          "execution_count": 5,
          "metadata": {},
          "output_type": "execute_result"
        }
      ],
      "source": [
        "#Encontre emoções únicas\n",
        "train_data[\"Emoção\"].unique()"
      ]
    },
    {
      "cell_type": "code",
      "execution_count": null,
      "metadata": {
        "id": "O6rl4wkbHaqi"
      },
      "outputs": [],
      "source": [
        "#Crie um dicionário para substituir emoções por etiquetas\n",
        "encode_emotions = {\"raiva\": 0, \"medo\": 1, \"alegria\": 2, \"amor\": 3, \"tristeza\": 4, \"surpresa\": 5}"
      ]
    },
    {
      "cell_type": "code",
      "execution_count": null,
      "metadata": {
        "colab": {
          "base_uri": "https://localhost:8080/",
          "height": 206
        },
        "id": "jN_PlSdBH5iT",
        "outputId": "7c8b80dc-640f-4373-cffe-17ba2b4c847e"
      },
      "outputs": [
        {
          "data": {
            "text/html": [
              "\n",
              "  <div id=\"df-7a3bc5d1-8d91-4894-9485-1940c0d94ff1\">\n",
              "    <div class=\"colab-df-container\">\n",
              "      <div>\n",
              "<style scoped>\n",
              "    .dataframe tbody tr th:only-of-type {\n",
              "        vertical-align: middle;\n",
              "    }\n",
              "\n",
              "    .dataframe tbody tr th {\n",
              "        vertical-align: top;\n",
              "    }\n",
              "\n",
              "    .dataframe thead th {\n",
              "        text-align: right;\n",
              "    }\n",
              "</style>\n",
              "<table border=\"1\" class=\"dataframe\">\n",
              "  <thead>\n",
              "    <tr style=\"text-align: right;\">\n",
              "      <th></th>\n",
              "      <th>Texto</th>\n",
              "      <th>Emoção</th>\n",
              "    </tr>\n",
              "  </thead>\n",
              "  <tbody>\n",
              "    <tr>\n",
              "      <th>0</th>\n",
              "      <td>estou com a petronas há anos, sinto que a petr...</td>\n",
              "      <td>2</td>\n",
              "    </tr>\n",
              "    <tr>\n",
              "      <th>1</th>\n",
              "      <td>não me sinto seguro a ansiedade está de cada lado</td>\n",
              "      <td>2</td>\n",
              "    </tr>\n",
              "    <tr>\n",
              "      <th>2</th>\n",
              "      <td>tenho a sensação de que ela se divertiu e se e...</td>\n",
              "      <td>2</td>\n",
              "    </tr>\n",
              "    <tr>\n",
              "      <th>3</th>\n",
              "      <td>fico tonta por me sentir elegante em uma saia ...</td>\n",
              "      <td>2</td>\n",
              "    </tr>\n",
              "    <tr>\n",
              "      <th>4</th>\n",
              "      <td>eu preciso sentir a massa para ter certeza que...</td>\n",
              "      <td>2</td>\n",
              "    </tr>\n",
              "  </tbody>\n",
              "</table>\n",
              "</div>\n",
              "      <button class=\"colab-df-convert\" onclick=\"convertToInteractive('df-7a3bc5d1-8d91-4894-9485-1940c0d94ff1')\"\n",
              "              title=\"Convert this dataframe to an interactive table.\"\n",
              "              style=\"display:none;\">\n",
              "        \n",
              "  <svg xmlns=\"http://www.w3.org/2000/svg\" height=\"24px\"viewBox=\"0 0 24 24\"\n",
              "       width=\"24px\">\n",
              "    <path d=\"M0 0h24v24H0V0z\" fill=\"none\"/>\n",
              "    <path d=\"M18.56 5.44l.94 2.06.94-2.06 2.06-.94-2.06-.94-.94-2.06-.94 2.06-2.06.94zm-11 1L8.5 8.5l.94-2.06 2.06-.94-2.06-.94L8.5 2.5l-.94 2.06-2.06.94zm10 10l.94 2.06.94-2.06 2.06-.94-2.06-.94-.94-2.06-.94 2.06-2.06.94z\"/><path d=\"M17.41 7.96l-1.37-1.37c-.4-.4-.92-.59-1.43-.59-.52 0-1.04.2-1.43.59L10.3 9.45l-7.72 7.72c-.78.78-.78 2.05 0 2.83L4 21.41c.39.39.9.59 1.41.59.51 0 1.02-.2 1.41-.59l7.78-7.78 2.81-2.81c.8-.78.8-2.07 0-2.86zM5.41 20L4 18.59l7.72-7.72 1.47 1.35L5.41 20z\"/>\n",
              "  </svg>\n",
              "      </button>\n",
              "      \n",
              "  <style>\n",
              "    .colab-df-container {\n",
              "      display:flex;\n",
              "      flex-wrap:wrap;\n",
              "      gap: 12px;\n",
              "    }\n",
              "\n",
              "    .colab-df-convert {\n",
              "      background-color: #E8F0FE;\n",
              "      border: none;\n",
              "      border-radius: 50%;\n",
              "      cursor: pointer;\n",
              "      display: none;\n",
              "      fill: #1967D2;\n",
              "      height: 32px;\n",
              "      padding: 0 0 0 0;\n",
              "      width: 32px;\n",
              "    }\n",
              "\n",
              "    .colab-df-convert:hover {\n",
              "      background-color: #E2EBFA;\n",
              "      box-shadow: 0px 1px 2px rgba(60, 64, 67, 0.3), 0px 1px 3px 1px rgba(60, 64, 67, 0.15);\n",
              "      fill: #174EA6;\n",
              "    }\n",
              "\n",
              "    [theme=dark] .colab-df-convert {\n",
              "      background-color: #3B4455;\n",
              "      fill: #D2E3FC;\n",
              "    }\n",
              "\n",
              "    [theme=dark] .colab-df-convert:hover {\n",
              "      background-color: #434B5C;\n",
              "      box-shadow: 0px 1px 3px 1px rgba(0, 0, 0, 0.15);\n",
              "      filter: drop-shadow(0px 1px 2px rgba(0, 0, 0, 0.3));\n",
              "      fill: #FFFFFF;\n",
              "    }\n",
              "  </style>\n",
              "\n",
              "      <script>\n",
              "        const buttonEl =\n",
              "          document.querySelector('#df-7a3bc5d1-8d91-4894-9485-1940c0d94ff1 button.colab-df-convert');\n",
              "        buttonEl.style.display =\n",
              "          google.colab.kernel.accessAllowed ? 'block' : 'none';\n",
              "\n",
              "        async function convertToInteractive(key) {\n",
              "          const element = document.querySelector('#df-7a3bc5d1-8d91-4894-9485-1940c0d94ff1');\n",
              "          const dataTable =\n",
              "            await google.colab.kernel.invokeFunction('convertToInteractive',\n",
              "                                                     [key], {});\n",
              "          if (!dataTable) return;\n",
              "\n",
              "          const docLinkHtml = 'Like what you see? Visit the ' +\n",
              "            '<a target=\"_blank\" href=https://colab.research.google.com/notebooks/data_table.ipynb>data table notebook</a>'\n",
              "            + ' to learn more about interactive tables.';\n",
              "          element.innerHTML = '';\n",
              "          dataTable['output_type'] = 'display_data';\n",
              "          await google.colab.output.renderOutput(dataTable, element);\n",
              "          const docLink = document.createElement('div');\n",
              "          docLink.innerHTML = docLinkHtml;\n",
              "          element.appendChild(docLink);\n",
              "        }\n",
              "      </script>\n",
              "    </div>\n",
              "  </div>\n",
              "  "
            ],
            "text/plain": [
              "                                               Texto  Emoção\n",
              "0  estou com a petronas há anos, sinto que a petr...       2\n",
              "1  não me sinto seguro a ansiedade está de cada lado       2\n",
              "2  tenho a sensação de que ela se divertiu e se e...       2\n",
              "3  fico tonta por me sentir elegante em uma saia ...       2\n",
              "4  eu preciso sentir a massa para ter certeza que...       2"
            ]
          },
          "execution_count": 7,
          "metadata": {},
          "output_type": "execute_result"
        }
      ],
      "source": [
        "train_data.replace(encode_emotions, inplace = True)\n",
        "train_data.head()"
      ]
    },
    {
      "cell_type": "markdown",
      "metadata": {
        "id": "jYFaTmaqLgif"
      },
      "source": [
        "## Converta o Dataframe em uma lista de conjunto de dados"
      ]
    },
    {
      "cell_type": "code",
      "execution_count": null,
      "metadata": {
        "id": "-Wrei71xICG0"
      },
      "outputs": [],
      "source": [
        "# Converta o Dataframe em uma lista de conjunto de dados\n",
        "\n",
        "training_sentences = []\n",
        "training_labels = []\n",
        "\n",
        "# Anexe o texto e as emoções na lista usando o método 'loc'\n",
        "\n",
        "for i in range(len(train_data)):\n",
        "  \n",
        "  sentence = train_data.loc[i, \"Texto\"]\n",
        "  training_sentences.append(sentence)\n",
        "\n",
        "  label = train_data.loc[i, \"Emoção\"]\n",
        "  training_labels.append(label)"
      ]
    },
    {
      "cell_type": "code",
      "execution_count": null,
      "metadata": {
        "colab": {
          "base_uri": "https://localhost:8080/"
        },
        "id": "G_dXVO41L2nx",
        "outputId": "25b7d4e9-b805-44c3-900e-f32378305dd6"
      },
      "outputs": [
        {
          "data": {
            "text/plain": [
              "('tenho tomado ou miligramas ou vezes a quantidade recomendada e adormeci muito mais rápido, mas também me sinto muito engraçado',\n",
              " 5)"
            ]
          },
          "execution_count": 9,
          "metadata": {},
          "output_type": "execute_result"
        }
      ],
      "source": [
        "# Verifique um texto e uma etiqueta aleatórios da lista\n",
        "\n",
        "training_sentences[20], training_labels[20]\n"
      ]
    },
    {
      "cell_type": "markdown",
      "metadata": {
        "id": "gJWzUQ1bMZfD"
      },
      "source": [
        "## Tokenização e Preenchimento\n",
        "O ato de converter texto em números é conhecido como **Tokenização**. A classe Tokenizer do Keras é usada para codificar entrada de texto em sequências inteiras.\n"
      ]
    },
    {
      "cell_type": "code",
      "execution_count": null,
      "metadata": {
        "colab": {
          "base_uri": "https://localhost:8080/"
        },
        "id": "1tQMEBbEMSus",
        "outputId": "08ab880c-0de3-4406-d7d2-69b5693d6a7d"
      },
      "outputs": [
        {
          "data": {
            "text/plain": [
              "49"
            ]
          },
          "execution_count": 10,
          "metadata": {},
          "output_type": "execute_result"
        }
      ],
      "source": [
        "#importe o Tokenizer do tensorflow\n",
        "\n",
        "import tensorflow as tf\n",
        "\n",
        "from tensorflow.keras.preprocessing.text import Tokenizer\n",
        "\n",
        "#Defina os parâmetros do Tokenizer\n",
        "\n",
        "vocab_size = 10000\n",
        "embedding_dim = 16\n",
        "oov_tok = \"<OOV>\"\n",
        "training_size = 20000\n",
        "\n",
        "tokenizer = Tokenizer(num_words=vocab_size, oov_token=oov_tok)\n",
        "tokenizer.fit_on_texts(training_sentences)\n",
        "\n",
        "#Crie um dicionário chamado word_index\n",
        "\n",
        "word_index = tokenizer.word_index\n",
        "\n",
        "#Verifique o valor numérico atribuído a uma palavra\n",
        "\n",
        "word_index[\"o\"]"
      ]
    },
    {
      "cell_type": "code",
      "execution_count": null,
      "metadata": {
        "colab": {
          "base_uri": "https://localhost:8080/"
        },
        "id": "A8gyTsM2sGwY",
        "outputId": "7e2b149f-ec8b-4ac5-81ba-466d09d1ff83"
      },
      "outputs": [
        {
          "name": "stdout",
          "output_type": "stream",
          "text": [
            "[9, 15, 5, 30, 50, 51, 6, 3, 5, 30, 31, 10, 52, 53, 7, 31, 10, 54, 55]\n",
            "[11, 2, 6, 56, 5, 57, 16, 8, 32, 58]\n",
            "[12, 5, 59, 8, 3, 60, 17, 61, 7, 17, 62]\n"
          ]
        }
      ],
      "source": [
        "training_sequences = tokenizer.texts_to_sequences(training_sentences)\n",
        "\n",
        "print(training_sequences[0])\n",
        "print(training_sequences[1])\n",
        "print(training_sequences[2])"
      ]
    },
    {
      "cell_type": "markdown",
      "metadata": {
        "id": "iRP-oFQx5ghI"
      },
      "source": [
        "O **Preenchimento** é importante para fazer com que todas as frases contenham o mesmo número de palavras. Zeros são usados para preencher a sequência tokenizada para fazer o texto conter o mesmo número de tokens."
      ]
    },
    {
      "cell_type": "code",
      "execution_count": null,
      "metadata": {
        "colab": {
          "base_uri": "https://localhost:8080/"
        },
        "id": "uHp-2-ek13xJ",
        "outputId": "2e1cef75-b6a1-476a-fd95-81967bfba89b"
      },
      "outputs": [
        {
          "data": {
            "text/plain": [
              "array([[  9,  15,   5, ...,   0,   0,   0],\n",
              "       [ 11,   2,   6, ...,   0,   0,   0],\n",
              "       [ 12,   5,  59, ...,   0,   0,   0],\n",
              "       ...,\n",
              "       [  4,   6, 226, ...,   0,   0,   0],\n",
              "       [  4,   2,   6, ...,   0,   0,   0],\n",
              "       [  4,  11,   2, ...,   0,   0,   0]], dtype=int32)"
            ]
          },
          "execution_count": 12,
          "metadata": {},
          "output_type": "execute_result"
        }
      ],
      "source": [
        "#Defina os parâmetros das pad_sequences\n",
        "\n",
        "from tensorflow.keras.preprocessing.sequence import pad_sequences\n",
        "\n",
        "padding_type='post'\n",
        "max_length = 100\n",
        "trunc_type='post'\n",
        "\n",
        "\n",
        "training_padded = pad_sequences(training_sequences, maxlen=max_length, \n",
        "                                padding=padding_type, truncating=trunc_type)\n",
        "\n",
        "training_padded"
      ]
    },
    {
      "cell_type": "markdown",
      "metadata": {
        "id": "TPQyFobaURxv"
      },
      "source": [
        "# Aula 115"
      ]
    },
    {
      "cell_type": "markdown",
      "metadata": {
        "id": "hGYr7QDGVXUX"
      },
      "source": [
        "## Convertendo sequências e etiquetas preenchidas em um array Numpy"
      ]
    },
    {
      "cell_type": "code",
      "execution_count": null,
      "metadata": {
        "id": "gq_NYp92ubUS"
      },
      "outputs": [],
      "source": [
        "#Crie arrays numpy para sequências e etiquetas preenchidas\n",
        "import numpy as np\n",
        "\n",
        "training_padded = np.array(training_padded)\n",
        "training_labels = np.array(training_labels)"
      ]
    },
    {
      "cell_type": "markdown",
      "metadata": {
        "id": "lF3BjZQRVgOE"
      },
      "source": [
        "## Compilação do Modelo"
      ]
    },
    {
      "cell_type": "code",
      "execution_count": null,
      "metadata": {
        "id": "yVtPoKMiVigF"
      },
      "outputs": [],
      "source": [
        "#Defina diferentes camadas e compile o modelo\n",
        "\n",
        "from tensorflow.keras.models import Sequential\n",
        "from tensorflow.keras.layers import Embedding, LSTM, Dense\n",
        "from tensorflow.keras.layers import Conv1D, Dropout, MaxPooling1D\n",
        "\n",
        "model = tf.keras.Sequential([\n",
        "    #Camada Embedding\n",
        "    Embedding(vocab_size,embedding_dim,input_length = max_length),\n",
        "    Dropout(0.2),\n",
        "\n",
        "    #Camada Conv1D\n",
        "    Conv1D(filters=256, kernel_size = 3, activation=\"relu\"),\n",
        "    MaxPooling1D(pool_size=3),\n",
        "\n",
        "    #Camada Conv1D\n",
        "    Conv1D(filters=128, kernel_size = 3, activation=\"relu\"),\n",
        "    MaxPooling1D(pool_size=3),\n",
        "\n",
        "    #camada LSTM\n",
        "    LSTM(128),\n",
        "\n",
        "    #camada dense\n",
        "    Dense(128,activation='relu'),\n",
        "    Dropout(0.2),\n",
        "    Dense(64,activation='relu'),\n",
        "    Dense(6,activation='softmax'),\n",
        "\n",
        "])\n"
      ]
    },
    {
      "cell_type": "code",
      "execution_count": null,
      "metadata": {
        "id": "Ab5MGFfsZTtM"
      },
      "outputs": [],
      "source": [
        "model.compile(loss='sparse_categorical_crossentropy',optimizer='adam',metrics=['accuracy'])"
      ]
    },
    {
      "cell_type": "markdown",
      "metadata": {
        "id": "GGe8gYlFVkWs"
      },
      "source": [
        "## Resumo do Modelo"
      ]
    },
    {
      "cell_type": "code",
      "execution_count": null,
      "metadata": {
        "colab": {
          "base_uri": "https://localhost:8080/"
        },
        "id": "y1TMGNnPVm6J",
        "outputId": "ef2d584a-f8c9-47b4-eb06-2dea4b382dab"
      },
      "outputs": [
        {
          "name": "stdout",
          "output_type": "stream",
          "text": [
            "Model: \"sequential\"\n",
            "_________________________________________________________________\n",
            " Layer (type)                Output Shape              Param #   \n",
            "=================================================================\n",
            " embedding (Embedding)       (None, 100, 16)           160000    \n",
            "                                                                 \n",
            " dropout (Dropout)           (None, 100, 16)           0         \n",
            "                                                                 \n",
            " conv1d (Conv1D)             (None, 98, 256)           12544     \n",
            "                                                                 \n",
            " max_pooling1d (MaxPooling1D  (None, 32, 256)          0         \n",
            " )                                                               \n",
            "                                                                 \n",
            " conv1d_1 (Conv1D)           (None, 30, 128)           98432     \n",
            "                                                                 \n",
            " max_pooling1d_1 (MaxPooling  (None, 10, 128)          0         \n",
            " 1D)                                                             \n",
            "                                                                 \n",
            " lstm (LSTM)                 (None, 128)               131584    \n",
            "                                                                 \n",
            " dense (Dense)               (None, 128)               16512     \n",
            "                                                                 \n",
            " dropout_1 (Dropout)         (None, 128)               0         \n",
            "                                                                 \n",
            " dense_1 (Dense)             (None, 64)                8256      \n",
            "                                                                 \n",
            " dense_2 (Dense)             (None, 6)                 390       \n",
            "                                                                 \n",
            "=================================================================\n",
            "Total params: 427,718\n",
            "Trainable params: 427,718\n",
            "Non-trainable params: 0\n",
            "_________________________________________________________________\n"
          ]
        }
      ],
      "source": [
        "#use o método summary()\n",
        "model.summary()"
      ]
    },
    {
      "cell_type": "markdown",
      "metadata": {
        "id": "ekCLU4qOVq6I"
      },
      "source": [
        "## Treine o Modelo"
      ]
    },
    {
      "cell_type": "code",
      "execution_count": null,
      "metadata": {
        "colab": {
          "base_uri": "https://localhost:8080/"
        },
        "id": "vGnkbyAoVs0D",
        "outputId": "7d453d47-e847-4f1e-c274-f6a7a9f5e7af"
      },
      "outputs": [
        {
          "name": "stdout",
          "output_type": "stream",
          "text": [
            "Epoch 1/30\n",
            "1/1 - 7s - loss: 1.7920 - accuracy: 0.1613 - 7s/epoch - 7s/step\n",
            "Epoch 2/30\n",
            "1/1 - 0s - loss: 1.7922 - accuracy: 0.1613 - 77ms/epoch - 77ms/step\n",
            "Epoch 3/30\n",
            "1/1 - 0s - loss: 1.7913 - accuracy: 0.1290 - 72ms/epoch - 72ms/step\n",
            "Epoch 4/30\n",
            "1/1 - 0s - loss: 1.7915 - accuracy: 0.2258 - 78ms/epoch - 78ms/step\n",
            "Epoch 5/30\n",
            "1/1 - 0s - loss: 1.7905 - accuracy: 0.1935 - 64ms/epoch - 64ms/step\n",
            "Epoch 6/30\n",
            "1/1 - 0s - loss: 1.7900 - accuracy: 0.1935 - 81ms/epoch - 81ms/step\n",
            "Epoch 7/30\n",
            "1/1 - 0s - loss: 1.7911 - accuracy: 0.1935 - 81ms/epoch - 81ms/step\n",
            "Epoch 8/30\n",
            "1/1 - 0s - loss: 1.7888 - accuracy: 0.1935 - 92ms/epoch - 92ms/step\n",
            "Epoch 9/30\n",
            "1/1 - 0s - loss: 1.7912 - accuracy: 0.1613 - 85ms/epoch - 85ms/step\n",
            "Epoch 10/30\n",
            "1/1 - 0s - loss: 1.7897 - accuracy: 0.1935 - 79ms/epoch - 79ms/step\n",
            "Epoch 11/30\n",
            "1/1 - 0s - loss: 1.7880 - accuracy: 0.1935 - 78ms/epoch - 78ms/step\n",
            "Epoch 12/30\n",
            "1/1 - 0s - loss: 1.7973 - accuracy: 0.1613 - 69ms/epoch - 69ms/step\n",
            "Epoch 13/30\n",
            "1/1 - 0s - loss: 1.7913 - accuracy: 0.1935 - 78ms/epoch - 78ms/step\n",
            "Epoch 14/30\n",
            "1/1 - 0s - loss: 1.7868 - accuracy: 0.1935 - 90ms/epoch - 90ms/step\n",
            "Epoch 15/30\n",
            "1/1 - 0s - loss: 1.7835 - accuracy: 0.1935 - 89ms/epoch - 89ms/step\n",
            "Epoch 16/30\n",
            "1/1 - 0s - loss: 1.7935 - accuracy: 0.1935 - 70ms/epoch - 70ms/step\n",
            "Epoch 17/30\n",
            "1/1 - 0s - loss: 1.7937 - accuracy: 0.1935 - 72ms/epoch - 72ms/step\n",
            "Epoch 18/30\n",
            "1/1 - 0s - loss: 1.7919 - accuracy: 0.1935 - 91ms/epoch - 91ms/step\n",
            "Epoch 19/30\n",
            "1/1 - 0s - loss: 1.7860 - accuracy: 0.1935 - 95ms/epoch - 95ms/step\n",
            "Epoch 20/30\n",
            "1/1 - 0s - loss: 1.7865 - accuracy: 0.1935 - 51ms/epoch - 51ms/step\n",
            "Epoch 21/30\n",
            "1/1 - 0s - loss: 1.7815 - accuracy: 0.1935 - 49ms/epoch - 49ms/step\n",
            "Epoch 22/30\n",
            "1/1 - 0s - loss: 1.7895 - accuracy: 0.1935 - 54ms/epoch - 54ms/step\n",
            "Epoch 23/30\n",
            "1/1 - 0s - loss: 1.7873 - accuracy: 0.1935 - 48ms/epoch - 48ms/step\n",
            "Epoch 24/30\n",
            "1/1 - 0s - loss: 1.7880 - accuracy: 0.1935 - 47ms/epoch - 47ms/step\n",
            "Epoch 25/30\n",
            "1/1 - 0s - loss: 1.7870 - accuracy: 0.1935 - 48ms/epoch - 48ms/step\n",
            "Epoch 26/30\n",
            "1/1 - 0s - loss: 1.7824 - accuracy: 0.1935 - 48ms/epoch - 48ms/step\n",
            "Epoch 27/30\n",
            "1/1 - 0s - loss: 1.7863 - accuracy: 0.1935 - 46ms/epoch - 46ms/step\n",
            "Epoch 28/30\n",
            "1/1 - 0s - loss: 1.7890 - accuracy: 0.1935 - 54ms/epoch - 54ms/step\n",
            "Epoch 29/30\n",
            "1/1 - 0s - loss: 1.7773 - accuracy: 0.1935 - 49ms/epoch - 49ms/step\n",
            "Epoch 30/30\n",
            "1/1 - 0s - loss: 1.7858 - accuracy: 0.1935 - 46ms/epoch - 46ms/step\n"
          ]
        }
      ],
      "source": [
        "#use a função fit() para treinar o modelo\n",
        "num_epochs = 30\n",
        "history = model.fit(training_padded,training_labels,epochs=num_epochs,verbose=2)"
      ]
    },
    {
      "cell_type": "markdown",
      "metadata": {
        "id": "tpSvC1-7VutR"
      },
      "source": [
        "## Salve o Modelo"
      ]
    },
    {
      "cell_type": "code",
      "execution_count": null,
      "metadata": {
        "id": "8LElqSacVw0q"
      },
      "outputs": [],
      "source": [
        "#use o método save()\n",
        "model.save('Text_Emotion.h5')"
      ]
    },
    {
      "cell_type": "markdown",
      "metadata": {
        "id": "J0PnKdcmV0bh"
      },
      "source": [
        "## Teste o modelo"
      ]
    },
    {
      "cell_type": "code",
      "execution_count": null,
      "metadata": {
        "colab": {
          "base_uri": "https://localhost:8080/"
        },
        "id": "9PoeOsviV2dm",
        "outputId": "e87b8b53-0e1b-4462-864e-6299cd87394a"
      },
      "outputs": [
        {
          "name": "stdout",
          "output_type": "stream",
          "text": [
            "1/1 [==============================] - 1s 514ms/step\n"
          ]
        },
        {
          "data": {
            "text/plain": [
              "array([4, 4, 4, 4, 4, 4, 4, 4, 4, 4, 4, 4, 4, 4, 4, 4, 4, 4, 4, 4, 4, 4,\n",
              "       4, 4, 4])"
            ]
          },
          "execution_count": 19,
          "metadata": {},
          "output_type": "execute_result"
        }
      ],
      "source": [
        "\n",
        "#use o método predict() para previsão do modelo\n",
        "#{\"raiva\": 0, \"medo\": 1, \"alegria\": 2, \"amor\": 3, \"tristeza\": 4, \"surpresa\": 5}\n",
        "\n",
        "sentece = [\"Eu estou feliz em encontrar meus amigos, Estamos planejando ir a uma festa.\",\n",
        "           \"Eu tive um dia ruim na escola. Eu me machuquei jogando futebol.\"]\n",
        "\n",
        "sequences = tokenizer.texts_to_sequences(sentence)\n",
        "\n",
        "padded = pad_sequences(sequences,maxlen=max_length,padding=padding_type,truncating=trunc_type)\n",
        "\n",
        "result = model.predict(padded)\n",
        "\n",
        "predict_class = np.argmax(result,axis=1)\n",
        "predict_class\n",
        "\n"
      ]
    }
  ],
  "metadata": {
    "colab": {
      "collapsed_sections": [
        "62rnxy-zXcCj",
        "TPQyFobaURxv"
      ],
      "provenance": []
    },
    "kernelspec": {
      "display_name": "Python 3.10.7 64-bit",
      "language": "python",
      "name": "python3"
    },
    "language_info": {
      "codemirror_mode": {
        "name": "ipython",
        "version": 3
      },
      "file_extension": ".py",
      "mimetype": "text/x-python",
      "name": "python",
      "nbconvert_exporter": "python",
      "pygments_lexer": "ipython3",
      "version": "3.10.7"
    },
    "vscode": {
      "interpreter": {
        "hash": "26de051ba29f2982a8de78e945f0abaf191376122a1563185a90213a26c5da77"
      }
    }
  },
  "nbformat": 4,
  "nbformat_minor": 0
}
